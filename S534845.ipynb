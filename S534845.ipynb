{
 "cells": [
  {
   "cell_type": "markdown",
   "metadata": {},
   "source": [
    "# Venkatesh Kunduru"
   ]
  },
  {
   "cell_type": "code",
   "execution_count": 5,
   "metadata": {},
   "outputs": [
    {
     "name": "stdout",
     "output_type": "stream",
     "text": [
      "```python\n",
      "#      #\n",
      "##    ##\n",
      "###  ###\n",
      "########\n",
      "```\n"
     ]
    }
   ],
   "source": [
    "print(\"```python\")\n",
    "no_of_lines = 4\n",
    "lines = 1\n",
    "while lines < no_of_lines+1:\n",
    "    for a in range(0,lines):\n",
    "        print('#',end = '')\n",
    "    spaces = (no_of_lines*2)-(2*lines)\n",
    "    for space  in range(0,spaces):\n",
    "        print(' ',end = '')\n",
    "    for b in range(0,lines):\n",
    "        print('#', end = '')\n",
    "    print()\n",
    "    lines += 1\n",
    "print(\"```\")"
   ]
  },
  {
   "cell_type": "code",
   "execution_count": null,
   "metadata": {},
   "outputs": [],
   "source": []
  }
 ],
 "metadata": {
  "kernelspec": {
   "display_name": "Python 3",
   "language": "python",
   "name": "python3"
  },
  "language_info": {
   "codemirror_mode": {
    "name": "ipython",
    "version": 3
   },
   "file_extension": ".py",
   "mimetype": "text/x-python",
   "name": "python",
   "nbconvert_exporter": "python",
   "pygments_lexer": "ipython3",
   "version": "3.7.3"
  }
 },
 "nbformat": 4,
 "nbformat_minor": 2
}
